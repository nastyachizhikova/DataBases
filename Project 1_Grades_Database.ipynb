{
 "cells": [
  {
   "cell_type": "code",
   "execution_count": 1,
   "metadata": {},
   "outputs": [
    {
     "name": "stdout",
     "output_type": "stream",
     "text": [
      "Requirement already satisfied: mysql-connector-python in c:\\anaconda\\lib\\site-packages (8.0.27)\n",
      "Requirement already satisfied: protobuf>=3.0.0 in c:\\anaconda\\lib\\site-packages (from mysql-connector-python) (3.18.1)\n"
     ]
    },
    {
     "name": "stderr",
     "output_type": "stream",
     "text": [
      "WARNING: Ignoring invalid distribution -umpy (c:\\anaconda\\lib\\site-packages)\n",
      "WARNING: Ignoring invalid distribution -umexpr (c:\\anaconda\\lib\\site-packages)\n",
      "WARNING: Ignoring invalid distribution -umpy (c:\\anaconda\\lib\\site-packages)\n",
      "WARNING: Ignoring invalid distribution -umexpr (c:\\anaconda\\lib\\site-packages)\n",
      "WARNING: Ignoring invalid distribution -umpy (c:\\anaconda\\lib\\site-packages)\n",
      "WARNING: Ignoring invalid distribution -umexpr (c:\\anaconda\\lib\\site-packages)\n",
      "WARNING: Ignoring invalid distribution -umpy (c:\\anaconda\\lib\\site-packages)\n",
      "WARNING: Ignoring invalid distribution -umexpr (c:\\anaconda\\lib\\site-packages)\n",
      "WARNING: Ignoring invalid distribution -umpy (c:\\anaconda\\lib\\site-packages)\n",
      "WARNING: Ignoring invalid distribution -umexpr (c:\\anaconda\\lib\\site-packages)\n",
      "WARNING: Ignoring invalid distribution -umpy (c:\\anaconda\\lib\\site-packages)\n",
      "WARNING: Ignoring invalid distribution -umexpr (c:\\anaconda\\lib\\site-packages)\n",
      "WARNING: You are using pip version 21.3; however, version 21.3.1 is available.\n",
      "You should consider upgrading via the 'c:\\anaconda\\python.exe -m pip install --upgrade pip' command.\n"
     ]
    }
   ],
   "source": [
    "!pip3 install mysql-connector-python"
   ]
  },
  {
   "cell_type": "code",
   "execution_count": 1,
   "metadata": {},
   "outputs": [],
   "source": [
    "import mysql.connector\n",
    "import pandas as pd\n",
    "import random"
   ]
  },
  {
   "cell_type": "markdown",
   "metadata": {},
   "source": [
    "Прочитаем данные с существующими студентами, преподавателями и предметами"
   ]
  },
  {
   "cell_type": "code",
   "execution_count": 60,
   "metadata": {},
   "outputs": [],
   "source": [
    "students = pd.read_csv('students.csv', sep=';')\n",
    "teachers = pd.read_csv('teachers.csv', sep=';')\n",
    "subjects = pd.read_csv('subjects.csv', sep=';')"
   ]
  },
  {
   "cell_type": "code",
   "execution_count": 61,
   "metadata": {},
   "outputs": [
    {
     "data": {
      "text/html": [
       "<div>\n",
       "<style scoped>\n",
       "    .dataframe tbody tr th:only-of-type {\n",
       "        vertical-align: middle;\n",
       "    }\n",
       "\n",
       "    .dataframe tbody tr th {\n",
       "        vertical-align: top;\n",
       "    }\n",
       "\n",
       "    .dataframe thead th {\n",
       "        text-align: right;\n",
       "    }\n",
       "</style>\n",
       "<table border=\"1\" class=\"dataframe\">\n",
       "  <thead>\n",
       "    <tr style=\"text-align: right;\">\n",
       "      <th></th>\n",
       "      <th>Фамилия</th>\n",
       "      <th>Имя</th>\n",
       "      <th>Гендер</th>\n",
       "      <th>Возраст</th>\n",
       "    </tr>\n",
       "  </thead>\n",
       "  <tbody>\n",
       "    <tr>\n",
       "      <th>0</th>\n",
       "      <td>Ацтеков</td>\n",
       "      <td>Тотем</td>\n",
       "      <td>М</td>\n",
       "      <td>12</td>\n",
       "    </tr>\n",
       "    <tr>\n",
       "      <th>1</th>\n",
       "      <td>Васькин</td>\n",
       "      <td>Дима</td>\n",
       "      <td>М</td>\n",
       "      <td>17</td>\n",
       "    </tr>\n",
       "  </tbody>\n",
       "</table>\n",
       "</div>"
      ],
      "text/plain": [
       "   Фамилия    Имя Гендер  Возраст\n",
       "0  Ацтеков  Тотем      М       12\n",
       "1  Васькин   Дима      М       17"
      ]
     },
     "execution_count": 61,
     "metadata": {},
     "output_type": "execute_result"
    }
   ],
   "source": [
    "students.head(2)"
   ]
  },
  {
   "cell_type": "code",
   "execution_count": 62,
   "metadata": {},
   "outputs": [
    {
     "data": {
      "text/html": [
       "<div>\n",
       "<style scoped>\n",
       "    .dataframe tbody tr th:only-of-type {\n",
       "        vertical-align: middle;\n",
       "    }\n",
       "\n",
       "    .dataframe tbody tr th {\n",
       "        vertical-align: top;\n",
       "    }\n",
       "\n",
       "    .dataframe thead th {\n",
       "        text-align: right;\n",
       "    }\n",
       "</style>\n",
       "<table border=\"1\" class=\"dataframe\">\n",
       "  <thead>\n",
       "    <tr style=\"text-align: right;\">\n",
       "      <th></th>\n",
       "      <th>Фамилия</th>\n",
       "      <th>Имя</th>\n",
       "      <th>Отчество</th>\n",
       "      <th>Гендер</th>\n",
       "    </tr>\n",
       "  </thead>\n",
       "  <tbody>\n",
       "    <tr>\n",
       "      <th>0</th>\n",
       "      <td>Мемовский</td>\n",
       "      <td>Игнатий</td>\n",
       "      <td>Игоревич</td>\n",
       "      <td>М</td>\n",
       "    </tr>\n",
       "    <tr>\n",
       "      <th>1</th>\n",
       "      <td>Доро</td>\n",
       "      <td>Гупеда-Гогу</td>\n",
       "      <td>-</td>\n",
       "      <td>Ж</td>\n",
       "    </tr>\n",
       "  </tbody>\n",
       "</table>\n",
       "</div>"
      ],
      "text/plain": [
       "     Фамилия          Имя  Отчество Гендер\n",
       "0  Мемовский      Игнатий  Игоревич      М\n",
       "1       Доро  Гупеда-Гогу         -      Ж"
      ]
     },
     "execution_count": 62,
     "metadata": {},
     "output_type": "execute_result"
    }
   ],
   "source": [
    "teachers.head(2)"
   ]
  },
  {
   "cell_type": "code",
   "execution_count": 63,
   "metadata": {},
   "outputs": [
    {
     "data": {
      "text/html": [
       "<div>\n",
       "<style scoped>\n",
       "    .dataframe tbody tr th:only-of-type {\n",
       "        vertical-align: middle;\n",
       "    }\n",
       "\n",
       "    .dataframe tbody tr th {\n",
       "        vertical-align: top;\n",
       "    }\n",
       "\n",
       "    .dataframe thead th {\n",
       "        text-align: right;\n",
       "    }\n",
       "</style>\n",
       "<table border=\"1\" class=\"dataframe\">\n",
       "  <thead>\n",
       "    <tr style=\"text-align: right;\">\n",
       "      <th></th>\n",
       "      <th>Название</th>\n",
       "      <th>Преподаватели</th>\n",
       "    </tr>\n",
       "  </thead>\n",
       "  <tbody>\n",
       "    <tr>\n",
       "      <th>0</th>\n",
       "      <td>Телеграмоведение</td>\n",
       "      <td>Мемовский Игнатий Игоревич, Алио Елена Ивановна</td>\n",
       "    </tr>\n",
       "    <tr>\n",
       "      <th>1</th>\n",
       "      <td>Твитоинжениринг</td>\n",
       "      <td>Доро Гупеда-Гогу, Алио Елена Ивановна</td>\n",
       "    </tr>\n",
       "  </tbody>\n",
       "</table>\n",
       "</div>"
      ],
      "text/plain": [
       "           Название                                    Преподаватели\n",
       "0  Телеграмоведение  Мемовский Игнатий Игоревич, Алио Елена Ивановна\n",
       "1   Твитоинжениринг            Доро Гупеда-Гогу, Алио Елена Ивановна"
      ]
     },
     "execution_count": 63,
     "metadata": {},
     "output_type": "execute_result"
    }
   ],
   "source": [
    "subjects.head(2)"
   ]
  },
  {
   "cell_type": "markdown",
   "metadata": {},
   "source": [
    "![title](architecture.png)"
   ]
  },
  {
   "cell_type": "markdown",
   "metadata": {},
   "source": [
    "Подключаемся к БД"
   ]
  },
  {
   "cell_type": "code",
   "execution_count": 2,
   "metadata": {},
   "outputs": [],
   "source": [
    "con = mysql.connector.connect(host='127.0.0.1', port=33062, user='root', password='my-secret-pw')"
   ]
  },
  {
   "cell_type": "code",
   "execution_count": 3,
   "metadata": {},
   "outputs": [],
   "source": [
    "cur=con.cursor(dictionary=True)"
   ]
  },
  {
   "cell_type": "code",
   "execution_count": 5,
   "metadata": {},
   "outputs": [],
   "source": [
    "# cur.execute('''CREATE DATABASE school_database /*!40100 DEFAULT CHARACTER \n",
    "#             SET utf8mb4 COLLATE utf8mb4_0900_ai_ci */ /*!80016 DEFAULT ENCRYPTION='N' */;''')"
   ]
  },
  {
   "cell_type": "code",
   "execution_count": 6,
   "metadata": {},
   "outputs": [],
   "source": [
    "con = mysql.connector.connect(host='127.0.0.1', port=33062, database='school_database', user='root', password='my-secret-pw')"
   ]
  },
  {
   "cell_type": "code",
   "execution_count": 7,
   "metadata": {},
   "outputs": [],
   "source": [
    "cur=con.cursor(dictionary=True)"
   ]
  },
  {
   "cell_type": "code",
   "execution_count": 119,
   "metadata": {},
   "outputs": [],
   "source": [
    "# cur.execute(\"\"\"\n",
    "# DROP TABLE IF EXISTS teachers2subjects\n",
    "# \"\"\")\n",
    "# cur.execute(\"\"\"\n",
    "# DROP TABLE IF EXISTS grades\n",
    "# \"\"\")\n",
    "# cur.execute(\"\"\"\n",
    "# DROP TABLE IF EXISTS students\n",
    "# \"\"\")\n",
    "# cur.execute(\"\"\"\n",
    "# DROP TABLE IF EXISTS teachers\n",
    "# \"\"\")\n",
    "# cur.execute(\"\"\"\n",
    "# DROP TABLE IF EXISTS subjects\n",
    "# \"\"\")"
   ]
  },
  {
   "cell_type": "code",
   "execution_count": 104,
   "metadata": {},
   "outputs": [],
   "source": [
    "cur.execute(\"\"\"CREATE TABLE students (\n",
    "              id_student INT NOT NULL AUTO_INCREMENT,\n",
    "              last_name VARCHAR(256) NOT NULL,\n",
    "              first_name VARCHAR(256) NOT NULL,\n",
    "              gender VARCHAR(1) NULL,\n",
    "              age INT NOT NULL,\n",
    "              PRIMARY KEY (id_student),\n",
    "              UNIQUE INDEX id_student_UNIQUE (id_student ASC) VISIBLE);\n",
    "\"\"\")\n",
    "\n",
    "cur.execute(\"\"\"CREATE TABLE teachers (\n",
    "              id_teacher INT NOT NULL AUTO_INCREMENT,\n",
    "              last_name VARCHAR(256) NOT NULL,\n",
    "              first_name VARCHAR(256) NOT NULL,\n",
    "              patronymic VARCHAR(256) NOT NULL,\n",
    "              gender VARCHAR(1) NULL,\n",
    "              PRIMARY KEY (id_teacher),\n",
    "              UNIQUE INDEX id_teacher_UNIQUE (id_teacher ASC) VISIBLE);\n",
    "\"\"\")\n",
    "\n",
    "cur.execute(\"\"\"CREATE TABLE subjects (\n",
    "              id_subject INT NOT NULL AUTO_INCREMENT,\n",
    "              name VARCHAR(512) NOT NULL,\n",
    "              PRIMARY KEY (id_subject),\n",
    "              UNIQUE INDEX id_subject_UNIQUE (id_subject ASC) VISIBLE);\n",
    "\"\"\")"
   ]
  },
  {
   "cell_type": "markdown",
   "metadata": {},
   "source": [
    "Перед тем, как заполнять таблицы данными, создадим ещще две - для сопоставления предмета и преподавателя (many2many) и для записывания оценок"
   ]
  },
  {
   "cell_type": "code",
   "execution_count": 105,
   "metadata": {},
   "outputs": [],
   "source": [
    "cur.execute(\"\"\"CREATE TABLE teachers2subjects (\n",
    "              id_teach2subj INT PRIMARY KEY NOT NULL AUTO_INCREMENT,\n",
    "              id_teacher INT NOT NULL,\n",
    "              id_subject INT NOT NULL,\n",
    "              UNIQUE INDEX id_teach2subj_UNIQUE (id_teach2subj ASC) VISIBLE,\n",
    "              FOREIGN KEY(id_teacher) REFERENCES teachers(id_teacher),\n",
    "              FOREIGN KEY(id_subject) REFERENCES subjects(id_subject));\n",
    "\"\"\")\n",
    "\n",
    "cur.execute(\"\"\"CREATE TABLE grades (\n",
    "              id_grade INT PRIMARY KEY NOT NULL AUTO_INCREMENT,\n",
    "              id_student INT NOT NULL,\n",
    "              id_subject INT NOT NULL,\n",
    "              grade INT NOT NULL,\n",
    "              UNIQUE INDEX id_grade_UNIQUE (id_grade ASC) VISIBLE,\n",
    "              FOREIGN KEY(id_student) REFERENCES students(id_student),\n",
    "              FOREIGN KEY(id_subject) REFERENCES subjects(id_subject));\n",
    "\"\"\")"
   ]
  },
  {
   "cell_type": "markdown",
   "metadata": {},
   "source": [
    "Читаем данные из списка студентов и преподавателей и заполняем таблицу"
   ]
  },
  {
   "cell_type": "code",
   "execution_count": 106,
   "metadata": {},
   "outputs": [],
   "source": [
    "for idx, student in students.iterrows():\n",
    "\n",
    "    sss = f'''INSERT INTO students (last_name, first_name, gender, age) \n",
    "              VALUES ('{student['Фамилия']}', '{student['Имя']}', '{student['Гендер']}', '{student['Возраст']}')'''\n",
    "    \n",
    "    cur.execute(sss)\n",
    "    \n",
    "    if idx % 5 == 0:\n",
    "        con.commit()"
   ]
  },
  {
   "cell_type": "code",
   "execution_count": 107,
   "metadata": {},
   "outputs": [],
   "source": [
    "for idx, teacher in teachers.iterrows():\n",
    "\n",
    "    sss = f'''INSERT INTO teachers (last_name, first_name, patronymic, gender) \n",
    "              VALUES ('{teacher['Фамилия']}', '{teacher['Имя']}', '{teacher['Отчество']}', '{teacher['Гендер']}')'''\n",
    "    \n",
    "    cur.execute(sss)\n",
    "    \n",
    "    if idx % 5 == 0:\n",
    "        con.commit()"
   ]
  },
  {
   "cell_type": "markdown",
   "metadata": {},
   "source": [
    "Читаем список предметов и сразу заполняем таблицу со списком предметов и teacher2subject"
   ]
  },
  {
   "cell_type": "code",
   "execution_count": 108,
   "metadata": {},
   "outputs": [],
   "source": [
    "def get_teachers_ids(teachers: str):\n",
    "    subj_teachers = teachers.split(', ')\n",
    "    \n",
    "    ids = []\n",
    "    for teach in subj_teachers:\n",
    "        names = teach.split()\n",
    "        if len(names) < 3:\n",
    "            names.append('-')\n",
    "        \n",
    "        cur.execute(f'''SELECT id_teacher FROM (teachers)\n",
    "                       WHERE (last_name = '{names[0]}')\n",
    "                       AND (first_name = '{names[1]}')\n",
    "                       AND (patronymic = '{names[2]}')''')\n",
    "        subj_id = cur.fetchall()[0]['id_teacher']\n",
    "        ids.append(subj_id)\n",
    "    \n",
    "    return ids"
   ]
  },
  {
   "cell_type": "code",
   "execution_count": 109,
   "metadata": {},
   "outputs": [],
   "source": [
    "for idx, subject in subjects.iterrows():\n",
    "\n",
    "    sss = f'''INSERT INTO subjects (name) VALUES ('{subject['Название']}')'''\n",
    "    \n",
    "    cur.execute(sss)\n",
    "    con.commit()\n",
    "    \n",
    "    cur.execute('''SELECT MAX(id_subject) FROM subjects''')\n",
    "    subj_id = cur.fetchall()[0]['MAX(id_subject)']\n",
    "    \n",
    "    teachers_ids = get_teachers_ids(subject['Преподаватели'])\n",
    "    \n",
    "    for teach_id in teachers_ids:\n",
    "        sss = f'''INSERT INTO teachers2subjects (id_teacher, id_subject) VALUES ('{teach_id}', '{subj_id}')'''\n",
    "    \n",
    "        cur.execute(sss)\n",
    "    \n",
    "    con.commit()"
   ]
  },
  {
   "cell_type": "markdown",
   "metadata": {},
   "source": [
    "Теперь \"проставим\" всем ученикам оценки по всем предметам (будем считать, что это таблица итоговых оценок, и у каждого студента за предмет только одна оценка)"
   ]
  },
  {
   "cell_type": "code",
   "execution_count": 110,
   "metadata": {},
   "outputs": [],
   "source": [
    "cur.execute('''SELECT id_student FROM students''')\n",
    "all_student_ids = [student['id_student'] for student in cur.fetchall()]\n",
    "\n",
    "cur.execute('''SELECT id_subject FROM subjects''')\n",
    "all_subj_ids = [subject['id_subject'] for subject in cur.fetchall()]"
   ]
  },
  {
   "cell_type": "code",
   "execution_count": 111,
   "metadata": {},
   "outputs": [],
   "source": [
    "for subj_id in all_subj_ids:\n",
    "    for stud_id in all_student_ids:\n",
    "        sss = f'''INSERT INTO grades (id_student, id_subject, grade) VALUES ('{stud_id}', '{subj_id}', '{random.randint(1, 10)}')'''\n",
    "        cur.execute(sss)\n",
    "    \n",
    "    con.commit()"
   ]
  },
  {
   "cell_type": "markdown",
   "metadata": {},
   "source": [
    "## Запросы"
   ]
  },
  {
   "cell_type": "markdown",
   "metadata": {},
   "source": [
    "Выведем названия предметов по которым средняя оценка выше 5"
   ]
  },
  {
   "cell_type": "code",
   "execution_count": 8,
   "metadata": {},
   "outputs": [],
   "source": [
    "query = '''\n",
    "SELECT * \n",
    "FROM\n",
    "    (\n",
    "    SELECT subjects.name, avg(grades.grade) as avg_grade \n",
    "    FROM school_database.grades \n",
    "    JOIN school_database.subjects \n",
    "    ON grades.id_subject = subjects.id_subject\n",
    "    GROUP BY grades.id_subject\n",
    "    ) avg_subj_grades\n",
    "WHERE avg_grade > 5;\n",
    "'''"
   ]
  },
  {
   "cell_type": "code",
   "execution_count": 9,
   "metadata": {},
   "outputs": [],
   "source": [
    "cur.execute(query)\n",
    "subj_over_5 = cur.fetchall()"
   ]
  },
  {
   "cell_type": "code",
   "execution_count": 10,
   "metadata": {},
   "outputs": [
    {
     "data": {
      "text/plain": [
       "[{'name': 'Телеграмоведение', 'avg_grade': Decimal('6.1154')},\n",
       " {'name': 'Твитоинжениринг', 'avg_grade': Decimal('5.2308')},\n",
       " {'name': 'Скаминг для мамонтов', 'avg_grade': Decimal('6.3462')},\n",
       " {'name': 'Теория относительности для чайников',\n",
       "  'avg_grade': Decimal('5.5769')},\n",
       " {'name': 'Брейкдаун', 'avg_grade': Decimal('5.3846')},\n",
       " {'name': 'Пранк-психология', 'avg_grade': Decimal('6.0769')},\n",
       " {'name': 'Эго-экономика', 'avg_grade': Decimal('5.7308')}]"
      ]
     },
     "execution_count": 10,
     "metadata": {},
     "output_type": "execute_result"
    }
   ],
   "source": [
    "subj_over_5"
   ]
  },
  {
   "cell_type": "markdown",
   "metadata": {},
   "source": [
    "Отсортируем преподавателей по средней оценке по предметам, которые они ведут (если у предмета два преподавателя, мы считаем что оценки по этим предметам идут к обоим преподавателям)"
   ]
  },
  {
   "cell_type": "code",
   "execution_count": 11,
   "metadata": {},
   "outputs": [],
   "source": [
    "query = '''SELECT CONCAT(last_name, ' ', first_name, ' ', patronymic) as full_name, avg_grade \n",
    "FROM\n",
    "(\n",
    "    SELECT AVG(grade) as avg_grade, id_teacher FROM school_database.grades \n",
    "    JOIN school_database.teachers2subjects \n",
    "    ON teachers2subjects.id_subject = grades.id_subject\n",
    "    GROUP BY id_teacher\n",
    "    ) avg_teach_grades\n",
    "\n",
    "JOIN school_database.teachers\n",
    "ON teachers.id_teacher = avg_teach_grades.id_teacher\n",
    "ORDER BY avg_grade DESC'''\n",
    "\n",
    "cur.execute(query)\n",
    "teachers_desc = cur.fetchall()"
   ]
  },
  {
   "cell_type": "code",
   "execution_count": 12,
   "metadata": {},
   "outputs": [
    {
     "data": {
      "text/plain": [
       "[{'full_name': 'Туркина Лилия Евгеньевна', 'avg_grade': Decimal('6.3462')},\n",
       " {'full_name': 'Мемовский Игнатий Игоревич', 'avg_grade': Decimal('6.1154')},\n",
       " {'full_name': 'Мамонтов Ренат Анатольевич', 'avg_grade': Decimal('6.0769')},\n",
       " {'full_name': 'Алио Елена Ивановна', 'avg_grade': Decimal('5.6731')},\n",
       " {'full_name': 'Нечитайло Сергей Владимирович',\n",
       "  'avg_grade': Decimal('5.5769')},\n",
       " {'full_name': 'Нулевых Рейчел Михайловна', 'avg_grade': Decimal('5.3846')},\n",
       " {'full_name': 'Глик Евгений Юрьевич', 'avg_grade': Decimal('5.2885')},\n",
       " {'full_name': 'Доро Гупеда-Гогу -', 'avg_grade': Decimal('5.2308')},\n",
       " {'full_name': 'Шмыга Анатолий Иванович', 'avg_grade': Decimal('4.8462')}]"
      ]
     },
     "execution_count": 12,
     "metadata": {},
     "output_type": "execute_result"
    }
   ],
   "source": [
    "teachers_desc"
   ]
  },
  {
   "cell_type": "markdown",
   "metadata": {},
   "source": [
    "Найдем среди учеников Пономарёва-младшего и посмотрим, какую оценку он получил за Ускорение метаболизма"
   ]
  },
  {
   "cell_type": "code",
   "execution_count": 13,
   "metadata": {},
   "outputs": [],
   "source": [
    "query = '''\n",
    "    SELECT CONCAT(last_name, ' ', first_name) full_name, age, grade, name \n",
    "    FROM students, grades, subjects\n",
    "    WHERE students.last_name = 'Пономарёв'\n",
    "    AND subjects.name = 'Ускорение метаболизма'\n",
    "    AND students.id_student = grades.id_student\n",
    "    AND subjects.id_subject = grades.id_subject\n",
    "    ORDER BY age LIMIT 1;\n",
    "'''\n",
    "\n",
    "cur.execute(query)\n",
    "ponomarev_grade = cur.fetchall()"
   ]
  },
  {
   "cell_type": "code",
   "execution_count": 14,
   "metadata": {},
   "outputs": [
    {
     "data": {
      "text/plain": [
       "[{'full_name': 'Пономарёв Саша',\n",
       "  'age': 14,\n",
       "  'grade': 2,\n",
       "  'name': 'Ускорение метаболизма'}]"
      ]
     },
     "execution_count": 14,
     "metadata": {},
     "output_type": "execute_result"
    }
   ],
   "source": [
    "ponomarev_grade"
   ]
  },
  {
   "cell_type": "markdown",
   "metadata": {},
   "source": [
    "Исправим эту оценку на 10"
   ]
  },
  {
   "cell_type": "code",
   "execution_count": 19,
   "metadata": {},
   "outputs": [],
   "source": [
    "query = '''\n",
    "UPDATE school_database.grades, school_database.students, school_database.subjects\n",
    "SET grades.grade = 10\n",
    "WHERE students.last_name = 'Пономарёв'\n",
    "AND students.first_name = 'Саша'\n",
    "AND subjects.name = 'Ускорение метаболизма'\n",
    "AND students.id_student = grades.id_student\n",
    "AND subjects.id_subject = grades.id_subject;\n",
    "'''\n",
    "\n",
    "cur.execute(query)\n",
    "con.commit()"
   ]
  },
  {
   "cell_type": "markdown",
   "metadata": {},
   "source": [
    "Проверим"
   ]
  },
  {
   "cell_type": "code",
   "execution_count": 20,
   "metadata": {},
   "outputs": [
    {
     "data": {
      "text/plain": [
       "[{'full_name': 'Пономарёв Саша',\n",
       "  'age': 14,\n",
       "  'grade': 10,\n",
       "  'name': 'Ускорение метаболизма'}]"
      ]
     },
     "execution_count": 20,
     "metadata": {},
     "output_type": "execute_result"
    }
   ],
   "source": [
    "query = '''\n",
    "    SELECT CONCAT(last_name, ' ', first_name) full_name, age, grade, name \n",
    "    FROM students, grades, subjects\n",
    "    WHERE students.last_name = 'Пономарёв'\n",
    "    AND subjects.name = 'Ускорение метаболизма'\n",
    "    AND students.id_student = grades.id_student\n",
    "    AND subjects.id_subject = grades.id_subject\n",
    "    ORDER BY age LIMIT 1;\n",
    "'''\n",
    "\n",
    "cur.execute(query)\n",
    "ponomarev_grade = cur.fetchall()\n",
    "ponomarev_grade"
   ]
  },
  {
   "cell_type": "markdown",
   "metadata": {},
   "source": [
    "Удалим из базы данные для всех учеников со средней оценкой выше 5 "
   ]
  },
  {
   "cell_type": "code",
   "execution_count": 22,
   "metadata": {},
   "outputs": [
    {
     "data": {
      "text/plain": [
       "[{'students_num': 234}]"
      ]
     },
     "execution_count": 22,
     "metadata": {},
     "output_type": "execute_result"
    }
   ],
   "source": [
    "query = '''SELECT count(*) students_num FROM school_database.grades;'''\n",
    "\n",
    "cur.execute(query)\n",
    "num_students = cur.fetchall()\n",
    "num_students"
   ]
  },
  {
   "cell_type": "code",
   "execution_count": 23,
   "metadata": {},
   "outputs": [],
   "source": [
    "query = '''DELETE FROM school_database.grades\n",
    "   WHERE grades.id_student IN\n",
    "   (SELECT id_student FROM\n",
    "        (SELECT id_student, AVG(grade) avg_grade\n",
    "        FROM school_database.grades\n",
    "        GROUP BY grades.id_student) avg_stud_grades\n",
    "    WHERE avg_stud_grades.avg_grade > 5);'''\n",
    "\n",
    "cur.execute(query)\n",
    "con.commit()"
   ]
  },
  {
   "cell_type": "code",
   "execution_count": 24,
   "metadata": {},
   "outputs": [
    {
     "data": {
      "text/plain": [
       "[{'students_num': 81}]"
      ]
     },
     "execution_count": 24,
     "metadata": {},
     "output_type": "execute_result"
    }
   ],
   "source": [
    "query = '''SELECT count(*) students_num FROM school_database.grades;'''\n",
    "\n",
    "cur.execute(query)\n",
    "num_students = cur.fetchall()\n",
    "num_students"
   ]
  },
  {
   "cell_type": "markdown",
   "metadata": {},
   "source": [
    "Проверим"
   ]
  },
  {
   "cell_type": "code",
   "execution_count": 25,
   "metadata": {},
   "outputs": [
    {
     "data": {
      "text/plain": [
       "[{'id_student': 4, 'avg_grade': Decimal('4.6667')},\n",
       " {'id_student': 5, 'avg_grade': Decimal('4.8889')},\n",
       " {'id_student': 11, 'avg_grade': Decimal('4.1111')},\n",
       " {'id_student': 13, 'avg_grade': Decimal('3.7778')},\n",
       " {'id_student': 15, 'avg_grade': Decimal('5.0000')},\n",
       " {'id_student': 16, 'avg_grade': Decimal('4.5556')},\n",
       " {'id_student': 18, 'avg_grade': Decimal('4.4444')},\n",
       " {'id_student': 23, 'avg_grade': Decimal('5.0000')},\n",
       " {'id_student': 26, 'avg_grade': Decimal('4.6667')}]"
      ]
     },
     "execution_count": 25,
     "metadata": {},
     "output_type": "execute_result"
    }
   ],
   "source": [
    "query = '''SELECT id_student, AVG(grade) avg_grade\n",
    "FROM school_database.grades\n",
    "GROUP BY grades.id_student'''\n",
    "\n",
    "cur.execute(query)\n",
    "bad_students = cur.fetchall()\n",
    "bad_students"
   ]
  },
  {
   "cell_type": "code",
   "execution_count": null,
   "metadata": {},
   "outputs": [],
   "source": []
  }
 ],
 "metadata": {
  "kernelspec": {
   "display_name": "Python 3 (ipykernel)",
   "language": "python",
   "name": "python3"
  },
  "language_info": {
   "codemirror_mode": {
    "name": "ipython",
    "version": 3
   },
   "file_extension": ".py",
   "mimetype": "text/x-python",
   "name": "python",
   "nbconvert_exporter": "python",
   "pygments_lexer": "ipython3",
   "version": "3.7.3"
  }
 },
 "nbformat": 4,
 "nbformat_minor": 2
}
